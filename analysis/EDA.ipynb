{
 "cells": [
  {
   "cell_type": "code",
   "execution_count": null,
   "id": "ba3ac29d",
   "metadata": {
    "vscode": {
     "languageId": "plaintext"
    }
   },
   "outputs": [],
   "source": [
    "import pandas as pd\n",
    "import numpy as np\n",
    "\n",
    "from analyze_src.basic_data_inspection import DataInspector, DataTypesInspectionStrategy, SummaryStatisticsInspectionStrategy\n",
    "from analyze_src.missing_values_analysis import SimpleMissingValuesAnalysis\n",
    "from analyze_src.univariate_analysis import UnivariateAnalyzer, NumericalUnivariateAnalysis, CategoricalUnivariateAnalysis\n",
    "from analyze_src.bivariate_analysis import BivariateAnalyzer, NumericalVsNumericalAnalysis, CategoricalVsNumericalAnalysis\n",
    "from analyze_src.multivariate_analysis import SimpleMultivariateAnalysis\n",
    "\n",
    "# Set display options for better readability\n",
    "pd.set_option('display.max_columns', None)\n",
    "pd.set_option('display.max_rows', 100)"
   ]
  },
  {
   "cell_type": "code",
   "execution_count": null,
   "id": "ddf69b99",
   "metadata": {
    "vscode": {
     "languageId": "plaintext"
    }
   },
   "outputs": [],
   "source": [
    "# Load the data\n",
    "# Assuming you have already extracted the data into the 'extracted-data' folder\n",
    "\n",
    "data_path = '../extracted_data/AmesHousing.csv'\n",
    "df = pd.read_csv(data_path)"
   ]
  }
 ],
 "metadata": {
  "language_info": {
   "name": "python"
  }
 },
 "nbformat": 4,
 "nbformat_minor": 5
}
